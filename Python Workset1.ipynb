{
 "cells": [
  {
   "cell_type": "code",
   "execution_count": 27,
   "metadata": {},
   "outputs": [
    {
     "name": "stdout",
     "output_type": "stream",
     "text": [
      "0\n"
     ]
    }
   ],
   "source": [
    "print(2//3)"
   ]
  },
  {
   "cell_type": "code",
   "execution_count": 28,
   "metadata": {},
   "outputs": [
    {
     "name": "stdout",
     "output_type": "stream",
     "text": [
      "24\n"
     ]
    }
   ],
   "source": [
    "print(6<<2)"
   ]
  },
  {
   "cell_type": "code",
   "execution_count": 29,
   "metadata": {},
   "outputs": [
    {
     "name": "stdout",
     "output_type": "stream",
     "text": [
      "2\n"
     ]
    }
   ],
   "source": [
    "print(6&2)"
   ]
  },
  {
   "cell_type": "code",
   "execution_count": 30,
   "metadata": {},
   "outputs": [
    {
     "name": "stdout",
     "output_type": "stream",
     "text": [
      "6\n"
     ]
    }
   ],
   "source": [
    "print(6|2)"
   ]
  },
  {
   "cell_type": "code",
   "execution_count": 31,
   "metadata": {},
   "outputs": [
    {
     "name": "stdout",
     "output_type": "stream",
     "text": [
      " Enter Number 5\n",
      "Factorial= 120\n"
     ]
    }
   ],
   "source": [
    "# To find Factorial numner\n",
    "\n",
    "i=int(input(\" Enter Number \"))\n",
    "fac=1\n",
    "while i>0:\n",
    "    fac=fac*i\n",
    "    i=i-1\n",
    "print(\"Factorial=\",fac)"
   ]
  },
  {
   "cell_type": "code",
   "execution_count": 17,
   "metadata": {},
   "outputs": [
    {
     "name": "stdout",
     "output_type": "stream",
     "text": [
      "Enter a number : 2\n",
      "2 is a Prime Number\n"
     ]
    }
   ],
   "source": [
    "# To  find whether a number is prime or composite\n",
    "\n",
    "num = int(input(\"Enter a number : \"))\n",
    "\n",
    "if num > 1:\n",
    "    for i in range (2, num):\n",
    "        if num % i == 0:\n",
    "            print (num, \"is not a prime number\")\n",
    "            break\n",
    "    else:\n",
    "        print(num, \"is a Prime Number\")\n",
    "elif num == 0 or num == 1:\n",
    "    print(num, \" is Neither prime nor Composite number.\")\n",
    "else:\n",
    "    print(num, \" is a prime number\")\n"
   ]
  },
  {
   "cell_type": "code",
   "execution_count": 18,
   "metadata": {},
   "outputs": [
    {
     "name": "stdout",
     "output_type": "stream",
     "text": [
      "Enter a String : 6\n",
      "String  :  6\n",
      "Reverse :  6\n",
      "It is a Palindrome\n"
     ]
    }
   ],
   "source": [
    "# To check whether a given string is palindrome or not\n",
    "\n",
    "def check(st):\n",
    "    rev=st[::-1]\n",
    "    print(\"String  : \",st)\n",
    "    print(\"Reverse : \",rev)\n",
    "    if(st==rev):\n",
    "        return True\n",
    "    else:\n",
    "        return False\n",
    "x=input(\"Enter a String : \")\n",
    "if check(x):\n",
    "    print(\"It is a Palindrome\")\n",
    "else:\n",
    "    print(\"It is not a Palindrome\")"
   ]
  },
  {
   "cell_type": "code",
   "execution_count": 23,
   "metadata": {},
   "outputs": [
    {
     "name": "stdout",
     "output_type": "stream",
     "text": [
      "Enter the Lenght\n",
      "a : 12\n",
      "b: 12\n",
      "the lenght of the third side is  16.97056274847714\n"
     ]
    }
   ],
   "source": [
    "# To get the third side of right-angled triangle from two given sides.\n",
    "\n",
    "from math import sqrt\n",
    "print(\"Enter the Lenght\")\n",
    "\n",
    "a= float(input(\"a : \"))\n",
    "b= float( input(\"b: \"))\n",
    "\n",
    "c= sqrt(a**2 + b**2)\n",
    "print(\"the lenght of the third side is \" , c)"
   ]
  },
  {
   "cell_type": "code",
   "execution_count": 26,
   "metadata": {},
   "outputs": [
    {
     "name": "stdout",
     "output_type": "stream",
     "text": [
      "Enter any String My name is Rahul Prasad\n",
      "Enter seach Character R\n",
      "Number of time Found = 1\n"
     ]
    }
   ],
   "source": [
    "# To print the frequency of each of the characters present in a given\n",
    "\n",
    "na = input(\"Enter any String \")\n",
    "ch = input(\"Enter seach Character \")\n",
    "f = 0\n",
    "for i in na:\n",
    "    if i == ch:\n",
    "        f=f+1\n",
    "print(\"Number of time Found =\",f)"
   ]
  },
  {
   "cell_type": "code",
   "execution_count": null,
   "metadata": {},
   "outputs": [],
   "source": []
  }
 ],
 "metadata": {
  "kernelspec": {
   "display_name": "Python 3",
   "language": "python",
   "name": "python3"
  },
  "language_info": {
   "codemirror_mode": {
    "name": "ipython",
    "version": 3
   },
   "file_extension": ".py",
   "mimetype": "text/x-python",
   "name": "python",
   "nbconvert_exporter": "python",
   "pygments_lexer": "ipython3",
   "version": "3.8.5"
  }
 },
 "nbformat": 4,
 "nbformat_minor": 4
}
