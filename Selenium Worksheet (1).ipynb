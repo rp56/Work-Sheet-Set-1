{
 "cells": [
  {
   "cell_type": "markdown",
   "id": "69613301",
   "metadata": {},
   "source": [
    "# Answer 1"
   ]
  },
  {
   "cell_type": "code",
   "execution_count": 1,
   "id": "8beefa3f",
   "metadata": {},
   "outputs": [
    {
     "name": "stdout",
     "output_type": "stream",
     "text": [
      "Requirement already satisfied: selenium in c:\\users\\rahul\\anaconda3\\lib\\site-packages (3.141.0)\n",
      "Requirement already satisfied: urllib3 in c:\\users\\rahul\\anaconda3\\lib\\site-packages (from selenium) (1.26.6)\n"
     ]
    }
   ],
   "source": [
    "!pip install selenium\n",
    "import selenium\n",
    "import pandas as pd\n",
    "from selenium import webdriver"
   ]
  },
  {
   "cell_type": "code",
   "execution_count": 165,
   "id": "0b308bc4",
   "metadata": {},
   "outputs": [],
   "source": [
    "driver = webdriver.Chrome('chromedriver.exe')\n",
    "url = 'https://www.naukri.com/'\n",
    "driver.get(url)\n",
    "search_job = driver.find_element_by_id(\"qsb-keyword-sugg\")\n",
    "search_job.send_keys('Data Analyst')\n",
    "search_loc = driver.find_element_by_id('qsb-location-sugg')\n",
    "search_loc.send_keys('Bangalore')\n",
    "search_btn = driver.find_element_by_xpath('//button[@class=\"btn\"]')\n",
    "search_btn.click()"
   ]
  },
  {
   "cell_type": "code",
   "execution_count": 166,
   "id": "6f7dd892",
   "metadata": {},
   "outputs": [
    {
     "data": {
      "text/plain": [
       "[]"
      ]
     },
     "execution_count": 166,
     "metadata": {},
     "output_type": "execute_result"
    }
   ],
   "source": [
    "title_tags = driver.find_elements_by_xpath(\"//a[@class='title fw500 ellipsis']\")\n",
    "title_tags"
   ]
  },
  {
   "cell_type": "code",
   "execution_count": 167,
   "id": "0ccb8973",
   "metadata": {},
   "outputs": [
    {
     "data": {
      "text/plain": [
       "[]"
      ]
     },
     "execution_count": 167,
     "metadata": {},
     "output_type": "execute_result"
    }
   ],
   "source": [
    "job_titles=[]\n",
    "for i in title_tags:\n",
    "    job_titles.append(i.text)\n",
    "job_titles[0:10]"
   ]
  },
  {
   "cell_type": "code",
   "execution_count": 168,
   "id": "66f41a55",
   "metadata": {},
   "outputs": [
    {
     "data": {
      "text/html": [
       "<div>\n",
       "<style scoped>\n",
       "    .dataframe tbody tr th:only-of-type {\n",
       "        vertical-align: middle;\n",
       "    }\n",
       "\n",
       "    .dataframe tbody tr th {\n",
       "        vertical-align: top;\n",
       "    }\n",
       "\n",
       "    .dataframe thead th {\n",
       "        text-align: right;\n",
       "    }\n",
       "</style>\n",
       "<table border=\"1\" class=\"dataframe\">\n",
       "  <thead>\n",
       "    <tr style=\"text-align: right;\">\n",
       "      <th></th>\n",
       "      <th>titles</th>\n",
       "    </tr>\n",
       "  </thead>\n",
       "  <tbody>\n",
       "  </tbody>\n",
       "</table>\n",
       "</div>"
      ],
      "text/plain": [
       "Empty DataFrame\n",
       "Columns: [titles]\n",
       "Index: []"
      ]
     },
     "execution_count": 168,
     "metadata": {},
     "output_type": "execute_result"
    }
   ],
   "source": [
    "jobs = pd.DataFrame({})\n",
    "jobs['titles'] =job_titles\n",
    "jobs[0:10]"
   ]
  },
  {
   "cell_type": "markdown",
   "id": "95f4ae9a",
   "metadata": {},
   "source": [
    "# Answer 2"
   ]
  },
  {
   "cell_type": "code",
   "execution_count": 169,
   "id": "c7bef852",
   "metadata": {},
   "outputs": [
    {
     "data": {
      "text/plain": [
       "[<selenium.webdriver.remote.webelement.WebElement (session=\"5749575b5c0fd208da10969dc7171750\", element=\"5348b11e-be0a-43a8-a447-80af0e9c59bb\")>,\n",
       " <selenium.webdriver.remote.webelement.WebElement (session=\"5749575b5c0fd208da10969dc7171750\", element=\"a9b18df3-0568-466d-8dbd-0febadf138a0\")>,\n",
       " <selenium.webdriver.remote.webelement.WebElement (session=\"5749575b5c0fd208da10969dc7171750\", element=\"26363bdc-f9c8-4207-aade-8f66d7252217\")>,\n",
       " <selenium.webdriver.remote.webelement.WebElement (session=\"5749575b5c0fd208da10969dc7171750\", element=\"62ac35d0-160b-473c-bec6-060f8158cd14\")>,\n",
       " <selenium.webdriver.remote.webelement.WebElement (session=\"5749575b5c0fd208da10969dc7171750\", element=\"56a029ab-1e9c-48b5-93ed-d8e63dac4b15\")>,\n",
       " <selenium.webdriver.remote.webelement.WebElement (session=\"5749575b5c0fd208da10969dc7171750\", element=\"9ee79253-f315-4328-b251-3208c2590810\")>,\n",
       " <selenium.webdriver.remote.webelement.WebElement (session=\"5749575b5c0fd208da10969dc7171750\", element=\"293ed1f4-293a-4c5a-bef5-a57e7fe67825\")>,\n",
       " <selenium.webdriver.remote.webelement.WebElement (session=\"5749575b5c0fd208da10969dc7171750\", element=\"e0a503a3-8caf-4a90-b5ed-dee2375228e2\")>,\n",
       " <selenium.webdriver.remote.webelement.WebElement (session=\"5749575b5c0fd208da10969dc7171750\", element=\"6019f3ba-ea92-40ab-a9fd-3f86457b5b82\")>,\n",
       " <selenium.webdriver.remote.webelement.WebElement (session=\"5749575b5c0fd208da10969dc7171750\", element=\"f832331e-798a-4bac-8175-65efdd78d567\")>]"
      ]
     },
     "execution_count": 169,
     "metadata": {},
     "output_type": "execute_result"
    }
   ],
   "source": [
    "url = driver.find_elements_by_xpath('//a[@class=\"title fw500 ellipsis\"]')\n",
    "url[0:10]"
   ]
  },
  {
   "cell_type": "code",
   "execution_count": 170,
   "id": "36b303a5",
   "metadata": {},
   "outputs": [
    {
     "data": {
      "text/plain": [
       "['https://www.naukri.com/job-listings-data-analyst-careerlabs-technologies-private-limited-bangalore-bengaluru-0-to-3-years-110821002383?src=jobsearchDesk&sid=16288665808851406&xp=1&px=1',\n",
       " 'https://www.naukri.com/job-listings-data-analyst-tata-consultancy-services-ltd-pune-chennai-bangalore-bengaluru-4-to-8-years-110821002380?src=jobsearchDesk&sid=16288665808851406&xp=2&px=1',\n",
       " 'https://www.naukri.com/job-listings-senior-data-analyst-nx-dt-hyderabad-secunderabad-pune-bangalore-bengaluru-10-to-16-years-110821007423?src=jobsearchDesk&sid=16288665808851406&xp=3&px=1',\n",
       " 'https://www.naukri.com/job-listings-senior-business-analyst-data-science-evalueserve-com-pvt-ltd-bangalore-bengaluru-2-to-7-years-240421003355?src=jobsearchDesk&sid=16288665808851406&xp=4&px=1',\n",
       " 'https://www.naukri.com/job-listings-business-data-analyst-colleague-experience-technology-vmware-india-bangalore-bengaluru-3-to-8-years-090821501930?src=jobsearchDesk&sid=16288665808851406&xp=5&px=1',\n",
       " 'https://www.naukri.com/job-listings-senior-data-analyst-telstra-india-pvt-ltd-bangalore-bengaluru-7-to-8-years-110821501369?src=jobsearchDesk&sid=16288665808851406&xp=6&px=1',\n",
       " 'https://www.naukri.com/job-listings-senior-data-analyst-einstein-analytics-enquero-hyderabad-secunderabad-bangalore-bengaluru-3-to-5-years-100821501382?src=jobsearchDesk&sid=16288665808851406&xp=7&px=1',\n",
       " 'https://www.naukri.com/job-listings-senior-specialist-data-analyst-philips-india-limited-bangalore-bengaluru-4-to-8-years-060821501602?src=jobsearchDesk&sid=16288665808851406&xp=8&px=1',\n",
       " 'https://www.naukri.com/job-listings-data-analyst-magenta-power-pvt-ltd-bangalore-bengaluru-3-to-5-years-130821500415?src=jobsearchDesk&sid=16288665808851406&xp=9&px=1',\n",
       " 'https://www.naukri.com/job-listings-data-analyst-python-suyati-technologies-pvt-ltd-kochi-cochin-bangalore-bengaluru-4-to-6-years-120821501263?src=jobsearchDesk&sid=16288665808851406&xp=10&px=1']"
      ]
     },
     "execution_count": 170,
     "metadata": {},
     "output_type": "execute_result"
    }
   ],
   "source": [
    "job_opening_url =[]\n",
    "url = driver.find_elements_by_xpath('//a[@class=\"title fw500 ellipsis\"]')\n",
    "\n",
    "for i in url:\n",
    "    job_opening_url.append(i.get_attribute('href'))\n",
    "job_opening_url[0:10]"
   ]
  },
  {
   "cell_type": "code",
   "execution_count": 171,
   "id": "030b1bd0",
   "metadata": {},
   "outputs": [
    {
     "data": {
      "text/plain": [
       "['--', '--', '--', '--', '--', '--', '--', '--', '--', '--']"
      ]
     },
     "execution_count": 171,
     "metadata": {},
     "output_type": "execute_result"
    }
   ],
   "source": [
    "job_descriptions = []\n",
    "for i in job_opening_url:\n",
    "    driver.get(i)\n",
    "    try:\n",
    "        job_description = driver.find_element_by_xpath(\"//h2[@'Job description']\")\n",
    "        job_descriptions.append(\"job_description.text\")\n",
    "    except:\n",
    "        job_descriptions.append(\"--\")\n",
    "        pass\n",
    "job_descriptions[0:10]"
   ]
  },
  {
   "cell_type": "markdown",
   "id": "71178f73",
   "metadata": {},
   "source": [
    "# Answer 3"
   ]
  },
  {
   "cell_type": "code",
   "execution_count": 156,
   "id": "64496373",
   "metadata": {},
   "outputs": [],
   "source": [
    "import pandas as pd\n",
    "import selenium\n",
    "from selenium import webdriver\n",
    "import time\n",
    "from selenium.common.exceptions import NoSuchElementException"
   ]
  },
  {
   "cell_type": "code",
   "execution_count": 157,
   "id": "55bc5ea5",
   "metadata": {},
   "outputs": [],
   "source": [
    "driver = webdriver.Chrome('chromedriver.exe')\n",
    "driver.get('https://www.naukri.com')"
   ]
  },
  {
   "cell_type": "code",
   "execution_count": 158,
   "id": "295b1444",
   "metadata": {},
   "outputs": [],
   "source": [
    "search_job = driver.find_element_by_id(\"qsb-keyword-sugg\")\n",
    "search_job.send_keys('Data Scientist')\n",
    "search_loc = driver.find_element_by_id('qsb-location-sugg')\n",
    "search_loc.send_keys('Delhi/NCR')\n",
    "search_btn = driver.find_element_by_xpath('//button[@class=\"btn\"]')\n",
    "search_btn.click()"
   ]
  },
  {
   "cell_type": "code",
   "execution_count": 159,
   "id": "8fae3c98",
   "metadata": {},
   "outputs": [],
   "source": [
    "driver.find_element_by_xpath(\"//span[@title='0-3 Lakhs']\").click()"
   ]
  },
  {
   "cell_type": "code",
   "execution_count": 160,
   "id": "d59863e0",
   "metadata": {},
   "outputs": [
    {
     "data": {
      "text/plain": [
       "[<selenium.webdriver.remote.webelement.WebElement (session=\"71d76a005f6266ba71ffd3909da99e6e\", element=\"6ead1751-a021-4de4-9e0e-9d90cb2f32fb\")>,\n",
       " <selenium.webdriver.remote.webelement.WebElement (session=\"71d76a005f6266ba71ffd3909da99e6e\", element=\"02bc5d8f-5f40-4d84-b725-2709681969ed\")>,\n",
       " <selenium.webdriver.remote.webelement.WebElement (session=\"71d76a005f6266ba71ffd3909da99e6e\", element=\"a37882fd-66b5-445e-bb47-c838b4c612ab\")>,\n",
       " <selenium.webdriver.remote.webelement.WebElement (session=\"71d76a005f6266ba71ffd3909da99e6e\", element=\"425efa31-78f3-4faf-b785-09cde086b565\")>,\n",
       " <selenium.webdriver.remote.webelement.WebElement (session=\"71d76a005f6266ba71ffd3909da99e6e\", element=\"d7153b5d-181e-4d09-9682-0a649932d1a5\")>,\n",
       " <selenium.webdriver.remote.webelement.WebElement (session=\"71d76a005f6266ba71ffd3909da99e6e\", element=\"23b02c25-2794-428c-8b6e-cb9985e118da\")>,\n",
       " <selenium.webdriver.remote.webelement.WebElement (session=\"71d76a005f6266ba71ffd3909da99e6e\", element=\"12d8747b-fd65-4125-b2d8-2e5a0c73c845\")>,\n",
       " <selenium.webdriver.remote.webelement.WebElement (session=\"71d76a005f6266ba71ffd3909da99e6e\", element=\"fe7b2ac4-eb48-4a60-8370-d6904551d156\")>,\n",
       " <selenium.webdriver.remote.webelement.WebElement (session=\"71d76a005f6266ba71ffd3909da99e6e\", element=\"a8b75a79-69dc-42f2-b10c-4aac844e8c5b\")>,\n",
       " <selenium.webdriver.remote.webelement.WebElement (session=\"71d76a005f6266ba71ffd3909da99e6e\", element=\"707a0d37-8921-4dc1-bccf-e79ffef9caa3\")>]"
      ]
     },
     "execution_count": 160,
     "metadata": {},
     "output_type": "execute_result"
    }
   ],
   "source": [
    "jobs_ = driver.find_elements_by_xpath(\"//a[@class='title fw500 ellipsis']\")\n",
    "jobs_[0:10]"
   ]
  },
  {
   "cell_type": "code",
   "execution_count": 161,
   "id": "944922fd",
   "metadata": {},
   "outputs": [
    {
     "data": {
      "text/plain": [
       "['https://www.naukri.com/job-listings-only-fresher-data-scientist-data-analyst-analytics-mnc-jobs-gaba-consultancy-services-noida-gurgaon-gurugram-delhi-ncr-0-to-0-years-060821000245?src=jobsearchDesk&sid=1628866438320855_1&xp=1&px=1',\n",
       " 'https://www.naukri.com/job-listings-data-scientist-machine-learning-nlp-talpro-gurgaon-gurugram-2-to-6-years-210621906106?src=jobsearchDesk&sid=1628866438320855_1&xp=2&px=1',\n",
       " 'https://www.naukri.com/job-listings-data-scientist-machine-learning-nlp-talpro-gurgaon-gurugram-2-to-4-years-180621908167?src=jobsearchDesk&sid=1628866438320855_1&xp=3&px=1',\n",
       " 'https://www.naukri.com/job-listings-data-scientist-data-analyst-cars24-gurgaon-gurugram-1-to-5-years-270721906255?src=jobsearchDesk&sid=1628866438320855_1&xp=4&px=1',\n",
       " 'https://www.naukri.com/job-listings-ecosystem-data-scientist-manager-mnc-gladwin-analytics-private-limited-opc-gurgaon-gurugram-bangalore-bengaluru-mumbai-all-areas-10-to-15-years-100821002164?src=jobsearchDesk&sid=1628866438320855_1&xp=5&px=1',\n",
       " 'https://www.naukri.com/job-listings-data-scientist-replicon-software-kolkata-hyderabad-secunderabad-pune-ahmedabad-chennai-bangalore-bengaluru-delhi-ncr-mumbai-all-areas-5-to-10-years-260621603052?src=jobsearchDesk&sid=1628866438320855_1&xp=6&px=1',\n",
       " 'https://www.naukri.com/job-listings-data-scientist-data-analyst-bfsi-industry-new-delhi-reckon-hr-consulting-new-delhi-2-to-5-years-030721600644?src=jobsearchDesk&sid=1628866438320855_1&xp=7&px=1',\n",
       " 'https://www.naukri.com/job-listings-associate-data-scientist-liberin-technologies-private-limited-noida-1-to-5-years-150721000006?src=jobsearchDesk&sid=1628866438320855_1&xp=8&px=1',\n",
       " 'https://www.naukri.com/job-listings-data-scientist-hadoop-redshift-bigquery-jubna-noida-3-to-5-years-140721903694?src=jobsearchDesk&sid=1628866438320855_1&xp=9&px=1',\n",
       " 'https://www.naukri.com/job-listings-data-scientist-algoscale-technologies-private-limited-noida-2-to-6-years-220721008486?src=jobsearchDesk&sid=1628866438320855_1&xp=10&px=1']"
      ]
     },
     "execution_count": 161,
     "metadata": {},
     "output_type": "execute_result"
    }
   ],
   "source": [
    "job_opening_url =[]\n",
    "url = driver.find_elements_by_xpath('//a[@class=\"title fw500 ellipsis\"]')\n",
    "\n",
    "for i in url:\n",
    "    job_opening_url.append(i.get_attribute('href'))\n",
    "job_opening_url[0:10]"
   ]
  },
  {
   "cell_type": "code",
   "execution_count": null,
   "id": "e8aaf0d9",
   "metadata": {},
   "outputs": [],
   "source": []
  },
  {
   "cell_type": "code",
   "execution_count": null,
   "id": "21bddd06",
   "metadata": {},
   "outputs": [],
   "source": []
  },
  {
   "cell_type": "code",
   "execution_count": 155,
   "id": "4b551ee0",
   "metadata": {},
   "outputs": [],
   "source": []
  },
  {
   "cell_type": "code",
   "execution_count": null,
   "id": "1fb5da0d",
   "metadata": {},
   "outputs": [],
   "source": []
  },
  {
   "cell_type": "code",
   "execution_count": 122,
   "id": "3b0d82f7",
   "metadata": {},
   "outputs": [],
   "source": []
  },
  {
   "cell_type": "code",
   "execution_count": null,
   "id": "002291be",
   "metadata": {},
   "outputs": [],
   "source": []
  }
 ],
 "metadata": {
  "kernelspec": {
   "display_name": "Python 3",
   "language": "python",
   "name": "python3"
  },
  "language_info": {
   "codemirror_mode": {
    "name": "ipython",
    "version": 3
   },
   "file_extension": ".py",
   "mimetype": "text/x-python",
   "name": "python",
   "nbconvert_exporter": "python",
   "pygments_lexer": "ipython3",
   "version": "3.8.10"
  }
 },
 "nbformat": 4,
 "nbformat_minor": 5
}
